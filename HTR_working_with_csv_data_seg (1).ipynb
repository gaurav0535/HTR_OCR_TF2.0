{
 "cells": [
  {
   "cell_type": "code",
   "execution_count": 114,
   "metadata": {},
   "outputs": [],
   "source": [
    "import cv2\n",
    "import pandas as pd\n",
    "import numpy as np\n",
    "from sklearn.utils import shuffle\n",
    "from matplotlib.pyplot import plot as plt"
   ]
  },
  {
   "cell_type": "code",
   "execution_count": 3,
   "metadata": {},
   "outputs": [],
   "source": [
    "df_Iam = pd.read_csv(\"IAM.csv\")\n",
    "df_Benthamn = pd.read_csv(\"Benthamn.csv\")\n",
    "df_Washington = pd.read_csv(\"Washington.csv\")"
   ]
  },
  {
   "cell_type": "code",
   "execution_count": 9,
   "metadata": {},
   "outputs": [],
   "source": [
    "completed_df = df_Benthamn.append(df_Iam)"
   ]
  },
  {
   "cell_type": "code",
   "execution_count": 10,
   "metadata": {},
   "outputs": [],
   "source": [
    "completed_df = completed_df.append(df_Washington)"
   ]
  },
  {
   "cell_type": "code",
   "execution_count": 11,
   "metadata": {},
   "outputs": [
    {
     "name": "stdout",
     "output_type": "stream",
     "text": [
      "<class 'pandas.core.frame.DataFrame'>\n",
      "Int64Index: 25482 entries, 0 to 655\n",
      "Data columns (total 2 columns):\n",
      "image    25482 non-null object\n",
      "text     25482 non-null object\n",
      "dtypes: object(2)\n",
      "memory usage: 597.2+ KB\n"
     ]
    }
   ],
   "source": [
    "completed_df.info()"
   ]
  },
  {
   "cell_type": "code",
   "execution_count": 16,
   "metadata": {},
   "outputs": [
    {
     "name": "stdout",
     "output_type": "stream",
     "text": [
      "25482\n"
     ]
    }
   ],
   "source": [
    "print(df_Benthamn.shape[0]+df_Iam.shape[0]+df_Washington.shape[0])"
   ]
  },
  {
   "cell_type": "code",
   "execution_count": 17,
   "metadata": {},
   "outputs": [],
   "source": [
    "#Lets dump it into one file\n",
    "completed_df.to_csv(\"htr.csv\",index = False)"
   ]
  },
  {
   "cell_type": "code",
   "execution_count": 18,
   "metadata": {},
   "outputs": [],
   "source": [
    "htr = pd.read_csv(\"htr.csv\")"
   ]
  },
  {
   "cell_type": "code",
   "execution_count": 25,
   "metadata": {},
   "outputs": [
    {
     "data": {
      "text/html": [
       "<div>\n",
       "<style scoped>\n",
       "    .dataframe tbody tr th:only-of-type {\n",
       "        vertical-align: middle;\n",
       "    }\n",
       "\n",
       "    .dataframe tbody tr th {\n",
       "        vertical-align: top;\n",
       "    }\n",
       "\n",
       "    .dataframe thead th {\n",
       "        text-align: right;\n",
       "    }\n",
       "</style>\n",
       "<table border=\"1\" class=\"dataframe\">\n",
       "  <thead>\n",
       "    <tr style=\"text-align: right;\">\n",
       "      <th></th>\n",
       "      <th>image</th>\n",
       "      <th>text</th>\n",
       "    </tr>\n",
       "  </thead>\n",
       "  <tbody>\n",
       "    <tr>\n",
       "      <td>0</td>\n",
       "      <td>116_643_001_02_20.png</td>\n",
       "      <td>-cult to prove , at least by the evidence of s...</td>\n",
       "    </tr>\n",
       "    <tr>\n",
       "      <td>1</td>\n",
       "      <td>073_073_001_03_07.png</td>\n",
       "      <td>we learn is taking with the will to steal ; al...</td>\n",
       "    </tr>\n",
       "    <tr>\n",
       "      <td>2</td>\n",
       "      <td>116_405_002_01_26.png</td>\n",
       "      <td>or walk , thereby to prevent the chance of the...</td>\n",
       "    </tr>\n",
       "    <tr>\n",
       "      <td>3</td>\n",
       "      <td>116_626_002_02_08.png</td>\n",
       "      <td>a year into the hands of the Police Magistrate...</td>\n",
       "    </tr>\n",
       "    <tr>\n",
       "      <td>4</td>\n",
       "      <td>115_067_003_02_14.png</td>\n",
       "      <td>offender under sentence of death but reprieved...</td>\n",
       "    </tr>\n",
       "  </tbody>\n",
       "</table>\n",
       "</div>"
      ],
      "text/plain": [
       "                   image                                               text\n",
       "0  116_643_001_02_20.png  -cult to prove , at least by the evidence of s...\n",
       "1  073_073_001_03_07.png  we learn is taking with the will to steal ; al...\n",
       "2  116_405_002_01_26.png  or walk , thereby to prevent the chance of the...\n",
       "3  116_626_002_02_08.png  a year into the hands of the Police Magistrate...\n",
       "4  115_067_003_02_14.png  offender under sentence of death but reprieved..."
      ]
     },
     "execution_count": 25,
     "metadata": {},
     "output_type": "execute_result"
    }
   ],
   "source": [
    "htr.head()"
   ]
  },
  {
   "cell_type": "code",
   "execution_count": 38,
   "metadata": {},
   "outputs": [
    {
     "name": "stdout",
     "output_type": "stream",
     "text": [
      "None\n"
     ]
    }
   ],
   "source": [
    "import os\n",
    "print(os.chdir(\"..\"))"
   ]
  },
  {
   "cell_type": "code",
   "execution_count": 41,
   "metadata": {},
   "outputs": [
    {
     "name": "stdout",
     "output_type": "stream",
     "text": [
      "['dataSetInfo.pdf', '.DS_Store', 'dataSetInfo.docx', 'Data Set']\n"
     ]
    }
   ],
   "source": [
    "print(os.listdir(\"Desktop/Tensorbrew/Own_OCR_HTR/\"))"
   ]
  },
  {
   "cell_type": "code",
   "execution_count": 42,
   "metadata": {},
   "outputs": [],
   "source": [
    "os.mkdir(\"Desktop/Tensorbrew/Own_OCR_HTR/Images\")"
   ]
  },
  {
   "cell_type": "code",
   "execution_count": 43,
   "metadata": {},
   "outputs": [
    {
     "name": "stdout",
     "output_type": "stream",
     "text": [
      "['dataSetInfo.pdf', '.DS_Store', 'Images', 'dataSetInfo.docx', 'Data Set']\n"
     ]
    }
   ],
   "source": [
    "print(os.listdir(\"Desktop/Tensorbrew/Own_OCR_HTR/\"))"
   ]
  },
  {
   "cell_type": "code",
   "execution_count": 48,
   "metadata": {},
   "outputs": [
    {
     "data": {
      "text/plain": [
       "['277-12.png',\n",
       " '277-06.png',\n",
       " '270-27.png',\n",
       " '279-03.png',\n",
       " '279-17.png',\n",
       " '270-33.png',\n",
       " '303-22.png',\n",
       " '303-36.png',\n",
       " '304-17.png',\n",
       " '304-03.png',\n",
       " '275-17.png',\n",
       " '275-03.png',\n",
       " '272-22.png',\n",
       " '272-36.png',\n",
       " '301-27.png',\n",
       " '308-03.png',\n",
       " '308-17.png',\n",
       " '301-33.png',\n",
       " '306-12.png',\n",
       " '306-06.png',\n",
       " '306-07.png',\n",
       " '306-13.png',\n",
       " '308-16.png',\n",
       " '301-32.png',\n",
       " '301-26.png',\n",
       " '272-23.png',\n",
       " '275-16.png',\n",
       " '304-16.png',\n",
       " '303-23.png',\n",
       " '279-16.png',\n",
       " '270-32.png',\n",
       " '270-26.png',\n",
       " '277-07.png',\n",
       " '277-13.png',\n",
       " '277-05.png',\n",
       " '279-28.png',\n",
       " '277-11.png',\n",
       " '270-18.png',\n",
       " '270-30.png',\n",
       " '279-14.png',\n",
       " '270-24.png',\n",
       " '303-35.png',\n",
       " '303-21.png',\n",
       " '304-28.png',\n",
       " '303-09.png',\n",
       " '304-14.png',\n",
       " '272-09.png',\n",
       " '275-14.png',\n",
       " '272-35.png',\n",
       " '272-21.png',\n",
       " '275-28.png',\n",
       " '301-30.png',\n",
       " '308-14.png',\n",
       " '301-24.png',\n",
       " '308-28.png',\n",
       " '306-05.png',\n",
       " '306-11.png',\n",
       " '301-18.png',\n",
       " '306-10.png',\n",
       " '301-19.png',\n",
       " '306-04.png',\n",
       " '308-29.png',\n",
       " '308-01.png',\n",
       " '301-25.png',\n",
       " '301-31.png',\n",
       " '308-15.png',\n",
       " '272-20.png',\n",
       " '275-29.png',\n",
       " '272-34.png',\n",
       " '275-15.png',\n",
       " '275-01.png',\n",
       " '272-08.png',\n",
       " '304-15.png',\n",
       " '304-01.png',\n",
       " '303-08.png',\n",
       " '303-20.png',\n",
       " '304-29.png',\n",
       " '303-34.png',\n",
       " '279-01.png',\n",
       " '270-25.png',\n",
       " '270-31.png',\n",
       " '277-10.png',\n",
       " '270-19.png',\n",
       " '279-29.png',\n",
       " '277-04.png',\n",
       " '279-11.png',\n",
       " '270-21.png',\n",
       " '277-28.png',\n",
       " '279-05.png',\n",
       " '270-09.png',\n",
       " '277-14.png',\n",
       " '304-05.png',\n",
       " '304-11.png',\n",
       " '303-18.png',\n",
       " '303-30.png',\n",
       " '303-24.png',\n",
       " '272-30.png',\n",
       " '272-24.png',\n",
       " '275-05.png',\n",
       " '275-11.png',\n",
       " '272-18.png',\n",
       " '301-09.png',\n",
       " '306-14.png',\n",
       " '308-11.png',\n",
       " '301-35.png',\n",
       " '301-21.png',\n",
       " '308-05.png',\n",
       " '306-28.png',\n",
       " '.DS_Store',\n",
       " '301-20.png',\n",
       " '306-29.png',\n",
       " '308-04.png',\n",
       " '308-10.png',\n",
       " '301-34.png',\n",
       " '306-15.png',\n",
       " '306-01.png',\n",
       " '301-08.png',\n",
       " '275-10.png',\n",
       " '272-19.png',\n",
       " '275-04.png',\n",
       " '272-25.png',\n",
       " '272-31.png',\n",
       " '303-25.png',\n",
       " '303-31.png',\n",
       " '304-10.png',\n",
       " '303-19.png',\n",
       " '304-04.png',\n",
       " '277-15.png',\n",
       " '270-08.png',\n",
       " '270-20.png',\n",
       " '279-04.png',\n",
       " '277-29.png',\n",
       " '279-10.png',\n",
       " '279-06.png',\n",
       " '270-22.png',\n",
       " '279-12.png',\n",
       " '277-17.png',\n",
       " '304-12.png',\n",
       " '304-06.png',\n",
       " '303-27.png',\n",
       " '303-33.png',\n",
       " '272-27.png',\n",
       " '272-33.png',\n",
       " '275-12.png',\n",
       " '275-06.png',\n",
       " '306-17.png',\n",
       " '306-03.png',\n",
       " '308-06.png',\n",
       " '301-22.png',\n",
       " '301-36.png',\n",
       " '308-12.png',\n",
       " '301-37.png',\n",
       " '308-13.png',\n",
       " '308-07.png',\n",
       " '301-23.png',\n",
       " '306-16.png',\n",
       " '275-07.png',\n",
       " '275-13.png',\n",
       " '272-32.png',\n",
       " '272-26.png',\n",
       " '303-32.png',\n",
       " '303-26.png',\n",
       " '304-07.png',\n",
       " '304-13.png',\n",
       " '277-02.png',\n",
       " '277-16.png',\n",
       " '279-13.png',\n",
       " '279-07.png',\n",
       " '270-23.png',\n",
       " '273-15.png',\n",
       " '273-01.png',\n",
       " '274-08.png',\n",
       " '274-20.png',\n",
       " '273-29.png',\n",
       " '274-34.png',\n",
       " '307-25.png',\n",
       " '309-08.png',\n",
       " '307-31.png',\n",
       " '300-10.png',\n",
       " '307-19.png',\n",
       " '309-34.png',\n",
       " '309-20.png',\n",
       " '300-04.png',\n",
       " '271-10.png',\n",
       " '278-34.png',\n",
       " '276-19.png',\n",
       " '278-20.png',\n",
       " '271-04.png',\n",
       " '278-08.png',\n",
       " '276-25.png',\n",
       " '276-31.png',\n",
       " '305-20.png',\n",
       " '302-29.png',\n",
       " '305-34.png',\n",
       " '302-15.png',\n",
       " '302-01.png',\n",
       " '305-08.png',\n",
       " '305-09.png',\n",
       " '302-14.png',\n",
       " '305-35.png',\n",
       " '305-21.png',\n",
       " '302-28.png',\n",
       " '276-30.png',\n",
       " '276-24.png',\n",
       " '278-09.png',\n",
       " '278-21.png',\n",
       " '271-05.png',\n",
       " '271-11.png',\n",
       " '276-18.png',\n",
       " '278-35.png',\n",
       " '309-21.png',\n",
       " '300-05.png',\n",
       " '300-11.png',\n",
       " '309-35.png',\n",
       " '307-18.png',\n",
       " '307-30.png',\n",
       " '309-09.png',\n",
       " '307-24.png',\n",
       " '274-35.png',\n",
       " '274-21.png',\n",
       " '273-28.png',\n",
       " '274-09.png',\n",
       " '273-14.png',\n",
       " '273-16.png',\n",
       " '274-23.png',\n",
       " '307-32.png',\n",
       " '307-26.png',\n",
       " '300-07.png',\n",
       " '309-23.png',\n",
       " '271-07.png',\n",
       " '278-23.png',\n",
       " '271-13.png',\n",
       " '276-32.png',\n",
       " '276-26.png',\n",
       " '305-23.png',\n",
       " '302-16.png',\n",
       " '302-17.png',\n",
       " '302-03.png',\n",
       " '305-22.png',\n",
       " '305-36.png',\n",
       " '276-27.png',\n",
       " '276-33.png',\n",
       " '271-12.png',\n",
       " '271-06.png',\n",
       " '278-22.png',\n",
       " '309-36.png',\n",
       " '300-12.png',\n",
       " '300-06.png',\n",
       " '309-22.png',\n",
       " '307-27.png',\n",
       " '307-33.png',\n",
       " '274-22.png',\n",
       " '273-17.png',\n",
       " '273-03.png',\n",
       " '274-32.png',\n",
       " '274-26.png',\n",
       " '273-07.png',\n",
       " '273-13.png',\n",
       " '309-26.png',\n",
       " '300-02.png',\n",
       " '300-16.png',\n",
       " '309-32.png',\n",
       " '276-23.png',\n",
       " '278-26.png',\n",
       " '271-02.png',\n",
       " '271-16.png',\n",
       " '278-32.png',\n",
       " '302-07.png',\n",
       " '302-13.png',\n",
       " '305-32.png',\n",
       " '305-26.png',\n",
       " '305-27.png',\n",
       " '305-33.png',\n",
       " '302-12.png',\n",
       " '302-06.png',\n",
       " '271-17.png',\n",
       " '278-33.png',\n",
       " '278-27.png',\n",
       " '276-22.png',\n",
       " '276-36.png',\n",
       " '307-22.png',\n",
       " '307-36.png',\n",
       " '300-17.png',\n",
       " '309-33.png',\n",
       " '309-27.png',\n",
       " '273-12.png',\n",
       " '273-06.png',\n",
       " '274-27.png',\n",
       " '274-33.png',\n",
       " '274-25.png',\n",
       " '274-31.png',\n",
       " '273-10.png',\n",
       " '274-19.png',\n",
       " '273-04.png',\n",
       " '309-31.png',\n",
       " '300-15.png',\n",
       " '307-20.png',\n",
       " '300-29.png',\n",
       " '309-19.png',\n",
       " '276-20.png',\n",
       " '271-29.png',\n",
       " '278-19.png',\n",
       " '276-34.png',\n",
       " '278-31.png',\n",
       " '271-15.png',\n",
       " '278-25.png',\n",
       " '276-08.png',\n",
       " '302-10.png',\n",
       " '305-19.png',\n",
       " '302-04.png',\n",
       " '305-25.png',\n",
       " '305-31.png',\n",
       " '305-30.png',\n",
       " '305-24.png',\n",
       " '302-05.png',\n",
       " '302-11.png',\n",
       " '305-18.png',\n",
       " '276-09.png',\n",
       " '278-24.png',\n",
       " '278-30.png',\n",
       " '271-14.png',\n",
       " '276-35.png',\n",
       " '278-18.png',\n",
       " '276-21.png',\n",
       " '271-28.png',\n",
       " '309-18.png',\n",
       " '307-35.png',\n",
       " '307-21.png',\n",
       " '300-28.png',\n",
       " '309-24.png',\n",
       " '307-09.png',\n",
       " '309-30.png',\n",
       " '300-14.png',\n",
       " '273-05.png',\n",
       " '273-11.png',\n",
       " '274-18.png',\n",
       " '274-30.png',\n",
       " '274-24.png',\n",
       " '273-34.png',\n",
       " '273-20.png',\n",
       " '274-29.png',\n",
       " '274-01.png',\n",
       " '274-15.png',\n",
       " '307-04.png',\n",
       " '309-29.png',\n",
       " '307-10.png',\n",
       " '300-19.png',\n",
       " '300-31.png',\n",
       " '309-15.png',\n",
       " '309-01.png',\n",
       " '300-25.png',\n",
       " '271-31.png',\n",
       " '278-15.png',\n",
       " '278-01.png',\n",
       " '271-25.png',\n",
       " '278-29.png',\n",
       " '276-04.png',\n",
       " '276-10.png',\n",
       " '271-19.png',\n",
       " '305-01.png',\n",
       " '302-08.png',\n",
       " '305-15.png',\n",
       " '302-34.png',\n",
       " '302-20.png',\n",
       " '302-21.png',\n",
       " '305-28.png',\n",
       " '302-35.png',\n",
       " '305-14.png',\n",
       " '302-09.png',\n",
       " '276-11.png',\n",
       " '271-18.png',\n",
       " '276-05.png',\n",
       " '278-28.png',\n",
       " '271-24.png',\n",
       " '271-30.png',\n",
       " '278-14.png',\n",
       " '300-24.png',\n",
       " '300-30.png',\n",
       " '309-14.png',\n",
       " '307-11.png',\n",
       " '300-18.png',\n",
       " '309-28.png',\n",
       " '307-05.png',\n",
       " '274-14.png',\n",
       " '273-09.png',\n",
       " '273-21.png',\n",
       " '274-28.png',\n",
       " '273-35.png',\n",
       " '273-23.png',\n",
       " '274-16.png',\n",
       " '307-13.png',\n",
       " '307-07.png',\n",
       " '300-26.png',\n",
       " '309-02.png',\n",
       " '309-16.png',\n",
       " '300-32.png',\n",
       " '271-26.png',\n",
       " '271-32.png',\n",
       " '276-13.png',\n",
       " '276-07.png',\n",
       " '305-16.png',\n",
       " '305-02.png',\n",
       " '302-23.png',\n",
       " '302-22.png',\n",
       " '305-17.png',\n",
       " '276-06.png',\n",
       " '276-12.png',\n",
       " '278-17.png',\n",
       " '271-33.png',\n",
       " '271-27.png',\n",
       " '278-03.png',\n",
       " '300-33.png',\n",
       " '300-27.png',\n",
       " '307-06.png',\n",
       " '307-12.png',\n",
       " '274-03.png',\n",
       " '274-17.png',\n",
       " '273-22.png',\n",
       " '274-13.png',\n",
       " '274-07.png',\n",
       " '273-26.png',\n",
       " '273-32.png',\n",
       " '309-07.png',\n",
       " '300-23.png',\n",
       " '309-13.png',\n",
       " '307-16.png',\n",
       " '307-02.png',\n",
       " '276-16.png',\n",
       " '276-02.png',\n",
       " '278-07.png',\n",
       " '271-23.png',\n",
       " '278-13.png',\n",
       " '302-26.png',\n",
       " '302-32.png',\n",
       " '305-13.png',\n",
       " '305-07.png',\n",
       " '305-06.png',\n",
       " '305-12.png',\n",
       " '302-33.png',\n",
       " '302-27.png',\n",
       " '271-36.png',\n",
       " '278-06.png',\n",
       " '271-22.png',\n",
       " '276-17.png',\n",
       " '307-17.png',\n",
       " '309-12.png',\n",
       " '300-22.png',\n",
       " '273-33.png',\n",
       " '273-27.png',\n",
       " '274-06.png',\n",
       " '274-12.png',\n",
       " '274-04.png',\n",
       " '274-10.png',\n",
       " '273-31.png',\n",
       " '273-25.png',\n",
       " '309-10.png',\n",
       " '300-34.png',\n",
       " '300-20.png',\n",
       " '307-29.png',\n",
       " '309-04.png',\n",
       " '300-08.png',\n",
       " '307-15.png',\n",
       " '271-08.png',\n",
       " '276-15.png',\n",
       " '278-10.png',\n",
       " '271-34.png',\n",
       " '278-04.png',\n",
       " '276-29.png',\n",
       " '302-31.png',\n",
       " '302-25.png',\n",
       " '305-04.png',\n",
       " '305-10.png',\n",
       " '302-19.png',\n",
       " '305-11.png',\n",
       " '302-18.png',\n",
       " '305-05.png',\n",
       " '302-24.png',\n",
       " '302-30.png',\n",
       " '271-21.png',\n",
       " '276-28.png',\n",
       " '278-05.png',\n",
       " '278-11.png',\n",
       " '271-35.png',\n",
       " '271-09.png',\n",
       " '307-14.png',\n",
       " '300-09.png',\n",
       " '300-21.png',\n",
       " '309-05.png',\n",
       " '307-28.png',\n",
       " '309-11.png',\n",
       " '300-35.png',\n",
       " '273-24.png',\n",
       " '273-30.png',\n",
       " '274-11.png',\n",
       " '273-18.png',\n",
       " '274-05.png',\n",
       " '277-33.png',\n",
       " '277-27.png',\n",
       " '270-06.png',\n",
       " '279-22.png',\n",
       " '270-12.png',\n",
       " '303-17.png',\n",
       " '304-22.png',\n",
       " '275-22.png',\n",
       " '272-17.png',\n",
       " '301-06.png',\n",
       " '308-22.png',\n",
       " '301-12.png',\n",
       " '306-33.png',\n",
       " '306-27.png',\n",
       " '306-26.png',\n",
       " '306-32.png',\n",
       " '301-13.png',\n",
       " '301-07.png',\n",
       " '308-23.png',\n",
       " '272-16.png',\n",
       " '272-02.png',\n",
       " '275-23.png',\n",
       " '304-23.png',\n",
       " '303-16.png',\n",
       " '303-02.png',\n",
       " '270-07.png',\n",
       " '279-23.png',\n",
       " '277-26.png',\n",
       " '277-32.png',\n",
       " '277-24.png',\n",
       " '279-09.png',\n",
       " '277-30.png',\n",
       " '270-11.png',\n",
       " '279-21.png',\n",
       " '270-05.png',\n",
       " '303-14.png',\n",
       " '304-09.png',\n",
       " '304-21.png',\n",
       " '303-28.png',\n",
       " '304-35.png',\n",
       " '275-21.png',\n",
       " '272-28.png',\n",
       " '275-35.png',\n",
       " '272-14.png',\n",
       " '275-09.png',\n",
       " '301-11.png',\n",
       " '308-35.png',\n",
       " '306-18.png',\n",
       " '308-21.png',\n",
       " '301-05.png',\n",
       " '308-09.png',\n",
       " '306-24.png',\n",
       " '306-30.png',\n",
       " '306-31.png',\n",
       " '306-25.png',\n",
       " '308-08.png',\n",
       " '308-20.png',\n",
       " '301-10.png',\n",
       " '306-19.png',\n",
       " '308-34.png',\n",
       " '275-08.png',\n",
       " '272-15.png',\n",
       " '275-34.png',\n",
       " '272-29.png',\n",
       " '304-34.png',\n",
       " '304-20.png',\n",
       " '303-29.png',\n",
       " '304-08.png',\n",
       " '303-15.png',\n",
       " '279-20.png',\n",
       " '270-04.png',\n",
       " '270-10.png',\n",
       " '277-19.png',\n",
       " '277-31.png',\n",
       " '279-08.png',\n",
       " '277-25.png',\n",
       " '279-30.png',\n",
       " '270-14.png',\n",
       " '277-09.png',\n",
       " '279-24.png',\n",
       " '277-21.png',\n",
       " '270-28.png',\n",
       " '277-35.png',\n",
       " '279-18.png',\n",
       " '304-24.png',\n",
       " '304-30.png',\n",
       " '303-11.png',\n",
       " '304-18.png',\n",
       " '303-05.png',\n",
       " '272-11.png',\n",
       " '275-18.png',\n",
       " '272-05.png',\n",
       " '275-24.png',\n",
       " '275-30.png',\n",
       " '306-21.png',\n",
       " '301-28.png',\n",
       " '308-18.png',\n",
       " '306-35.png',\n",
       " '308-30.png',\n",
       " '301-14.png',\n",
       " '306-09.png',\n",
       " '306-08.png',\n",
       " '308-25.png',\n",
       " '308-31.png',\n",
       " '301-15.png',\n",
       " '306-34.png',\n",
       " '308-19.png',\n",
       " '306-20.png',\n",
       " '301-29.png',\n",
       " '275-31.png',\n",
       " '275-25.png',\n",
       " '272-04.png',\n",
       " '272-10.png',\n",
       " '275-19.png',\n",
       " '303-04.png',\n",
       " '303-10.png',\n",
       " '304-19.png',\n",
       " '304-31.png',\n",
       " '304-25.png',\n",
       " '279-19.png',\n",
       " '277-34.png',\n",
       " '277-20.png',\n",
       " '270-29.png',\n",
       " '270-01.png',\n",
       " '279-25.png',\n",
       " '277-08.png',\n",
       " '270-15.png',\n",
       " '279-27.png',\n",
       " '270-03.png',\n",
       " '270-17.png',\n",
       " '279-33.png',\n",
       " '277-36.png',\n",
       " '277-22.png',\n",
       " '304-33.png',\n",
       " '304-27.png',\n",
       " '303-06.png',\n",
       " '303-12.png',\n",
       " '272-06.png',\n",
       " '272-12.png',\n",
       " '275-33.png',\n",
       " '275-27.png',\n",
       " '306-22.png',\n",
       " '308-27.png',\n",
       " '301-03.png',\n",
       " '301-17.png',\n",
       " '308-33.png',\n",
       " '301-16.png',\n",
       " '308-32.png',\n",
       " '308-26.png',\n",
       " '275-26.png',\n",
       " '275-32.png',\n",
       " '272-13.png',\n",
       " '272-07.png',\n",
       " '303-13.png',\n",
       " '303-07.png',\n",
       " '304-26.png',\n",
       " '304-32.png',\n",
       " '277-23.png',\n",
       " '270-16.png',\n",
       " '279-32.png',\n",
       " '279-26.png']"
      ]
     },
     "execution_count": 48,
     "metadata": {},
     "output_type": "execute_result"
    }
   ],
   "source": [
    "os.listdir(\"Desktop/Tensorbrew/Own_OCR_HTR/Data Set/Washington/washingtondb-v1.0/data/line_images_normalized/\")"
   ]
  },
  {
   "cell_type": "code",
   "execution_count": 50,
   "metadata": {},
   "outputs": [],
   "source": [
    "#copy the images for washingoton database\n",
    "\n",
    "import glob\n",
    "import shutil\n",
    "import os\n",
    "\n",
    "src_dir = \"Desktop/Tensorbrew/Own_OCR_HTR/Data Set/Washington/washingtondb-v1.0/data/line_images_normalized\"\n",
    "dst_dir = \"Desktop/Tensorbrew/Own_OCR_HTR/Images\"\n",
    "for pngfile in glob.iglob(os.path.join(src_dir, \"*.png\")):\n",
    "    shutil.copy(pngfile, dst_dir)\n"
   ]
  },
  {
   "cell_type": "code",
   "execution_count": 51,
   "metadata": {},
   "outputs": [],
   "source": [
    "src_dir = \"Desktop/Tensorbrew/Own_OCR_HTR/Data Set/Bentham Dataset/BenthamDatasetR0-GT/Images/Lines\"\n",
    "for pngfile in glob.iglob(os.path.join(src_dir, \"*.png\")):\n",
    "    shutil.copy(pngfile, dst_dir)\n"
   ]
  },
  {
   "cell_type": "code",
   "execution_count": 63,
   "metadata": {},
   "outputs": [],
   "source": [
    "test = \"/Users/gauravsrivastava/Desktop/Tensorbrew/Own_ocr_htr/Data Set/IAM Dataset/lines/\""
   ]
  },
  {
   "cell_type": "code",
   "execution_count": 64,
   "metadata": {},
   "outputs": [],
   "source": [
    "folders = os.listdir(test)"
   ]
  },
  {
   "cell_type": "code",
   "execution_count": 101,
   "metadata": {},
   "outputs": [],
   "source": [
    "from tqdm import tqdm\n"
   ]
  },
  {
   "cell_type": "code",
   "execution_count": 104,
   "metadata": {},
   "outputs": [
    {
     "name": "stderr",
     "output_type": "stream",
     "text": [
      "100%|██████████| 77/77 [00:18<00:00,  4.18it/s]\n"
     ]
    },
    {
     "data": {
      "text/plain": [
       "13353"
      ]
     },
     "execution_count": 104,
     "metadata": {},
     "output_type": "execute_result"
    }
   ],
   "source": [
    "count = 0\n",
    "for folder in tqdm(folders):\n",
    "    if folder == \".DS_Store\":\n",
    "        continue\n",
    "    folder1 = os.path.join(test,folder)\n",
    "    folder2 = os.listdir(folder1)\n",
    "    #print(os.path.join(test,folder))\n",
    "    #print(folder2)\n",
    "    #break\n",
    "    for sub_folder in folder2:\n",
    "        subsubfolder = os.path.join(folder1,sub_folder)\n",
    "    #    print(subsubfolder)\n",
    "        if sub_folder == \".DS_Store\":\n",
    "            continue\n",
    "        #print(sub_folder)\n",
    "        for pngfile in glob.iglob(os.path.join(subsubfolder, \"*.png\")):\n",
    "            count = count + 1\n",
    "            #print(pngfile)\n",
    "            shutil.copy(pngfile, dst_dir)\n",
    "            \n",
    "count"
   ]
  },
  {
   "cell_type": "code",
   "execution_count": 96,
   "metadata": {},
   "outputs": [],
   "source": [
    "#glob.iglob(os.path.join(subsubfolder, \"*.png\"))"
   ]
  },
  {
   "cell_type": "code",
   "execution_count": 109,
   "metadata": {},
   "outputs": [
    {
     "name": "stderr",
     "output_type": "stream",
     "text": [
      "100%|██████████| 25482/25482 [00:00<00:00, 2618370.23it/s]\n"
     ]
    }
   ],
   "source": [
    "i = 0\n",
    "for image in tqdm(os.listdir(dst_dir)):\n",
    "    i = i+1\n",
    "    \n",
    "    \n",
    "    "
   ]
  },
  {
   "cell_type": "code",
   "execution_count": 110,
   "metadata": {},
   "outputs": [
    {
     "data": {
      "text/plain": [
       "25482"
      ]
     },
     "execution_count": 110,
     "metadata": {},
     "output_type": "execute_result"
    }
   ],
   "source": [
    "i"
   ]
  },
  {
   "cell_type": "code",
   "execution_count": 111,
   "metadata": {},
   "outputs": [
    {
     "name": "stdout",
     "output_type": "stream",
     "text": [
      "25482\n"
     ]
    }
   ],
   "source": [
    "print(df_Benthamn.shape[0]+df_Iam.shape[0]+df_Washington.shape[0])"
   ]
  },
  {
   "cell_type": "code",
   "execution_count": 112,
   "metadata": {},
   "outputs": [],
   "source": [
    "#We have copied all the images in one single folder and onw single csv contains information"
   ]
  },
  {
   "cell_type": "code",
   "execution_count": 113,
   "metadata": {},
   "outputs": [
    {
     "name": "stdout",
     "output_type": "stream",
     "text": [
      "<class 'pandas.core.frame.DataFrame'>\n",
      "RangeIndex: 25482 entries, 0 to 25481\n",
      "Data columns (total 2 columns):\n",
      "image    25482 non-null object\n",
      "text     25482 non-null object\n",
      "dtypes: object(2)\n",
      "memory usage: 398.3+ KB\n"
     ]
    }
   ],
   "source": [
    "htr.info()"
   ]
  },
  {
   "cell_type": "code",
   "execution_count": 125,
   "metadata": {},
   "outputs": [],
   "source": [
    "#Shuffle the data set and break it into train and test then start working on \n",
    "df = shuffle(htr)"
   ]
  },
  {
   "cell_type": "code",
   "execution_count": 133,
   "metadata": {},
   "outputs": [
    {
     "data": {
      "text/html": [
       "<div>\n",
       "<style scoped>\n",
       "    .dataframe tbody tr th:only-of-type {\n",
       "        vertical-align: middle;\n",
       "    }\n",
       "\n",
       "    .dataframe tbody tr th {\n",
       "        vertical-align: top;\n",
       "    }\n",
       "\n",
       "    .dataframe thead th {\n",
       "        text-align: right;\n",
       "    }\n",
       "</style>\n",
       "<table border=\"1\" class=\"dataframe\">\n",
       "  <thead>\n",
       "    <tr style=\"text-align: right;\">\n",
       "      <th></th>\n",
       "      <th>image</th>\n",
       "      <th>text</th>\n",
       "    </tr>\n",
       "  </thead>\n",
       "  <tbody>\n",
       "    <tr>\n",
       "      <td>2158</td>\n",
       "      <td>072_103_001_05_01.png</td>\n",
       "      <td>Notes .\\n</td>\n",
       "    </tr>\n",
       "    <tr>\n",
       "      <td>20152</td>\n",
       "      <td>h04-057-00.png</td>\n",
       "      <td>All types of household benefited from the impr...</td>\n",
       "    </tr>\n",
       "    <tr>\n",
       "      <td>18578</td>\n",
       "      <td>g06-018n-07.png</td>\n",
       "      <td>than Naples . The journey has been</td>\n",
       "    </tr>\n",
       "    <tr>\n",
       "      <td>11162</td>\n",
       "      <td>071_139_004_04_24.png</td>\n",
       "      <td>approaches\\n</td>\n",
       "    </tr>\n",
       "    <tr>\n",
       "      <td>1982</td>\n",
       "      <td>115_016_001_01_24.png</td>\n",
       "      <td>4 . £27,000 to be advanced to the Proposer :  ...</td>\n",
       "    </tr>\n",
       "  </tbody>\n",
       "</table>\n",
       "</div>"
      ],
      "text/plain": [
       "                       image  \\\n",
       "2158   072_103_001_05_01.png   \n",
       "20152         h04-057-00.png   \n",
       "18578        g06-018n-07.png   \n",
       "11162  071_139_004_04_24.png   \n",
       "1982   115_016_001_01_24.png   \n",
       "\n",
       "                                                    text  \n",
       "2158                                           Notes .\\n  \n",
       "20152  All types of household benefited from the impr...  \n",
       "18578                 than Naples . The journey has been  \n",
       "11162                                       approaches\\n  \n",
       "1982   4 . £27,000 to be advanced to the Proposer :  ...  "
      ]
     },
     "execution_count": 133,
     "metadata": {},
     "output_type": "execute_result"
    }
   ],
   "source": [
    "df = shuffle(htr)\n",
    "df.head()"
   ]
  },
  {
   "cell_type": "code",
   "execution_count": 136,
   "metadata": {},
   "outputs": [
    {
     "data": {
      "text/html": [
       "<div>\n",
       "<style scoped>\n",
       "    .dataframe tbody tr th:only-of-type {\n",
       "        vertical-align: middle;\n",
       "    }\n",
       "\n",
       "    .dataframe tbody tr th {\n",
       "        vertical-align: top;\n",
       "    }\n",
       "\n",
       "    .dataframe thead th {\n",
       "        text-align: right;\n",
       "    }\n",
       "</style>\n",
       "<table border=\"1\" class=\"dataframe\">\n",
       "  <thead>\n",
       "    <tr style=\"text-align: right;\">\n",
       "      <th></th>\n",
       "      <th>image</th>\n",
       "      <th>text</th>\n",
       "    </tr>\n",
       "  </thead>\n",
       "  <tbody>\n",
       "    <tr>\n",
       "      <td>0</td>\n",
       "      <td>072_103_001_05_01.png</td>\n",
       "      <td>Notes .\\n</td>\n",
       "    </tr>\n",
       "    <tr>\n",
       "      <td>1</td>\n",
       "      <td>h04-057-00.png</td>\n",
       "      <td>All types of household benefited from the impr...</td>\n",
       "    </tr>\n",
       "    <tr>\n",
       "      <td>2</td>\n",
       "      <td>g06-018n-07.png</td>\n",
       "      <td>than Naples . The journey has been</td>\n",
       "    </tr>\n",
       "    <tr>\n",
       "      <td>3</td>\n",
       "      <td>071_139_004_04_24.png</td>\n",
       "      <td>approaches\\n</td>\n",
       "    </tr>\n",
       "    <tr>\n",
       "      <td>4</td>\n",
       "      <td>115_016_001_01_24.png</td>\n",
       "      <td>4 . £27,000 to be advanced to the Proposer :  ...</td>\n",
       "    </tr>\n",
       "  </tbody>\n",
       "</table>\n",
       "</div>"
      ],
      "text/plain": [
       "                   image                                               text\n",
       "0  072_103_001_05_01.png                                          Notes .\\n\n",
       "1         h04-057-00.png  All types of household benefited from the impr...\n",
       "2        g06-018n-07.png                 than Naples . The journey has been\n",
       "3  071_139_004_04_24.png                                       approaches\\n\n",
       "4  115_016_001_01_24.png  4 . £27,000 to be advanced to the Proposer :  ..."
      ]
     },
     "execution_count": 136,
     "metadata": {},
     "output_type": "execute_result"
    }
   ],
   "source": [
    "df.head()"
   ]
  },
  {
   "cell_type": "code",
   "execution_count": 135,
   "metadata": {},
   "outputs": [],
   "source": [
    "df.reset_index(inplace = True,drop= True) "
   ]
  },
  {
   "cell_type": "code",
   "execution_count": 137,
   "metadata": {},
   "outputs": [],
   "source": [
    "test_filename = dst_dir+\"/072_103_001_05_01.png\""
   ]
  },
  {
   "cell_type": "code",
   "execution_count": 138,
   "metadata": {},
   "outputs": [
    {
     "data": {
      "image/png": "[encoded data removed]",
      "text/plain": [
       "<IPython.core.display.Image object>"
      ]
     },
     "execution_count": 138,
     "metadata": {},
     "output_type": "execute_result"
    }
   ],
   "source": [
    "from IPython.display import Image\n",
    "Image(filename=test_filename) "
   ]
  },
  {
   "cell_type": "code",
   "execution_count": 130,
   "metadata": {},
   "outputs": [],
   "source": [
    "#Breaking dataset into 70:20:10\n",
    "#70 --- Train\n",
    "#10 --- Validation\n",
    "#20 --- Test"
   ]
  },
  {
   "cell_type": "code",
   "execution_count": 148,
   "metadata": {},
   "outputs": [],
   "source": [
    "train = round(df.shape[0]*.70)"
   ]
  },
  {
   "cell_type": "code",
   "execution_count": 149,
   "metadata": {},
   "outputs": [
    {
     "data": {
      "text/plain": [
       "17837"
      ]
     },
     "execution_count": 149,
     "metadata": {},
     "output_type": "execute_result"
    }
   ],
   "source": [
    "train"
   ]
  },
  {
   "cell_type": "code",
   "execution_count": 153,
   "metadata": {},
   "outputs": [
    {
     "name": "stdout",
     "output_type": "stream",
     "text": [
      "<class 'pandas.core.frame.DataFrame'>\n",
      "RangeIndex: 17837 entries, 0 to 17836\n",
      "Data columns (total 2 columns):\n",
      "image    17837 non-null object\n",
      "text     17837 non-null object\n",
      "dtypes: object(2)\n",
      "memory usage: 278.8+ KB\n"
     ]
    }
   ],
   "source": [
    "train_csv = df.iloc[0:train]\n",
    "train_csv.info()"
   ]
  },
  {
   "cell_type": "code",
   "execution_count": 154,
   "metadata": {},
   "outputs": [
    {
     "name": "stdout",
     "output_type": "stream",
     "text": [
      "<class 'pandas.core.frame.DataFrame'>\n",
      "RangeIndex: 3823 entries, 17837 to 21659\n",
      "Data columns (total 2 columns):\n",
      "image    3823 non-null object\n",
      "text     3823 non-null object\n",
      "dtypes: object(2)\n",
      "memory usage: 59.9+ KB\n"
     ]
    }
   ],
   "source": [
    "validation = round(df.shape[0]*.85)\n",
    "validation_csv = df.iloc[train:validation]\n",
    "validation_csv.info()"
   ]
  },
  {
   "cell_type": "code",
   "execution_count": 155,
   "metadata": {},
   "outputs": [
    {
     "name": "stdout",
     "output_type": "stream",
     "text": [
      "<class 'pandas.core.frame.DataFrame'>\n",
      "RangeIndex: 3822 entries, 21660 to 25481\n",
      "Data columns (total 2 columns):\n",
      "image    3822 non-null object\n",
      "text     3822 non-null object\n",
      "dtypes: object(2)\n",
      "memory usage: 59.8+ KB\n"
     ]
    }
   ],
   "source": [
    "test = round(df.shape[0])\n",
    "test_csv = df.iloc[validation:test]\n",
    "test_csv.info()"
   ]
  },
  {
   "cell_type": "code",
   "execution_count": 156,
   "metadata": {},
   "outputs": [],
   "source": [
    "os.mkdir(\"Desktop/Tensorbrew/Own_OCR_HTR/CSV\")\n",
    "train_csv.to_csv(\"Desktop/Tensorbrew/Own_OCR_HTR/CSV/train.csv\",index = False)\n",
    "validation_csv.to_csv(\"Desktop/Tensorbrew/Own_OCR_HTR/CSV/validation.csv\",index = False)\n",
    "test_csv.to_csv(\"Desktop/Tensorbrew/Own_OCR_HTR/CSV/test.csv\",index = False)"
   ]
  },
  {
   "cell_type": "code",
   "execution_count": null,
   "metadata": {},
   "outputs": [],
   "source": []
  }
 ],
 "metadata": {
  "kernelspec": {
   "display_name": "Python 3",
   "language": "python",
   "name": "python3"
  },
  "language_info": {
   "codemirror_mode": {
    "name": "ipython",
    "version": 3
   },
   "file_extension": ".py",
   "mimetype": "text/x-python",
   "name": "python",
   "nbconvert_exporter": "python",
   "pygments_lexer": "ipython3",
   "version": "3.7.4"
  }
 },
 "nbformat": 4,
 "nbformat_minor": 2
}
